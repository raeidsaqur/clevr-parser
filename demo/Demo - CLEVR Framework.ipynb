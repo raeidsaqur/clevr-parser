{
 "cells": [
  {
   "cell_type": "code",
   "execution_count": 11,
   "metadata": {},
   "outputs": [
    {
     "name": "stdout",
     "output_type": "stream",
     "text": [
      "/Users/raeidsaqur/Research/projects/CLEVR-PARSER/clevr-parser/demo\r\n"
     ]
    }
   ],
   "source": [
    "!pwd"
   ]
  },
  {
   "cell_type": "code",
   "execution_count": 1,
   "metadata": {},
   "outputs": [
    {
     "name": "stdout",
     "output_type": "stream",
     "text": [
      "clevr_parser_path = /Users/raeidsaqur/Research/projects/CLEVR-PARSER/clevr-parser/clevr-parser\n"
     ]
    },
    {
     "name": "stderr",
     "output_type": "stream",
     "text": [
      "ERROR torch_embedder.py:  34: Some required modules couldn't be imported: torch_geometric\n",
      "DEBUG spacy_parser.py:  72: Activated spatial recognizer\n",
      "DEBUG spacy_parser.py:  76: Activated matching recognizer\n",
      "DEBUG pyplot.py: 225: Loaded backend module://ipykernel.pylab.backend_inline version unknown.\n"
     ]
    }
   ],
   "source": [
    "import os, sys, platform\n",
    "nb_dir = os.path.split(os.getcwd())[0]\n",
    "if nb_dir not in sys.path:\n",
    "    sys.path.append(nb_dir)\n",
    "\n",
    "PROJ_DIR = f\"/Users/raeidsaqur/Research/projects/CLEVR-PARSER/clevr-parser\"  \n",
    "clevr_parser_path = f'{PROJ_DIR}/clevr-parser'\n",
    "print(f'clevr_parser_path = {clevr_parser_path}')  \n",
    "\n",
    "if clevr_parser_path not in sys.path:\n",
    "    sys.path.insert(0, clevr_parser_path)\n",
    "\n",
    "    \n",
    "import spacy\n",
    "from spacy import displacy\n",
    "from IPython.core.display import display, Image, HTML  \n",
    "\n",
    "import clevr_parser\n",
    "import clevr_parser.utils as utils\n",
    "\n",
    "import clevr_parser.utils as clevr_parser_utils\n",
    "from clevr_parser.explacy import print_parse, print_parse_info\n",
    "# parser = clevr_parser.Parser().get_backend(identifier='spacy', model='en_core_web_sm')\n",
    "parser = clevr_parser.Parser(backend='spacy', model='en_core_web_sm', \n",
    "                                            has_spatial=True, \n",
    "                                           has_matching=True).get_backend(identifier='spacy')\n",
    "\n",
    "\n",
    "plt_visualizer = clevr_parser.Visualizer(backend='matplotlib').get_backend(identifier='matplotlib')\n",
    "gviz_visualizer = clevr_parser.Visualizer(backend='graphviz').get_backend(identifier='graphviz')\n",
    "\n",
    "# try:\n",
    "#     import torch\n",
    "#     torch.manual_seed(42)\n",
    "#     from torch_geometric.data import Data, DataLoader\n",
    "#     #from dgmc.models import DGMC, GIN\n",
    "# except ImportError as ie:\n",
    "#     print(ie)\n"
   ]
  },
  {
   "cell_type": "code",
   "execution_count": null,
   "metadata": {},
   "outputs": [],
   "source": []
  },
  {
   "cell_type": "code",
   "execution_count": 5,
   "metadata": {},
   "outputs": [
    {
     "data": {
      "text/html": [
       "<img src=\"../data/2obj/images/train/CLEVR_train_000001.png\"/>"
      ],
      "text/plain": [
       "<IPython.core.display.Image object>"
      ]
     },
     "metadata": {},
     "output_type": "display_data"
    }
   ],
   "source": [
    "\n",
    "def visualize(doc, dep=False):\n",
    "    displacy.render(doc, style='ent', jupyter=True)\n",
    "    if dep:\n",
    "        displacy.render(doc, style='dep', jupyter=True, options={'distance': 70})\n",
    "\n",
    "img_fn = 'CLEVR_train_000001.png'\n",
    "img_path = f'../data/2obj/images/train/{img_fn}'\n",
    "display(Image(url=img_path))\n",
    "\n",
    "# Grounding Graph #\n",
    "img_groundings_path = \"../data/2obj/scenes_parsed/train_scenes_parsed.json\"\n",
    "img_grounding = utils.load_grounding_for_img(img_fn, img_groundings_path)\n"
   ]
  },
  {
   "cell_type": "code",
   "execution_count": 10,
   "metadata": {
    "scrolled": true
   },
   "outputs": [],
   "source": [
    "# G_img = parser.draw_clevr_img_scene_graph(img_grounding)                                                     "
   ]
  },
  {
   "cell_type": "code",
   "execution_count": 6,
   "metadata": {},
   "outputs": [
    {
     "data": {
      "text/html": [
       "<span class=\"tex2jax_ignore\"><div class=\"entities\" style=\"line-height: 2.5; direction: ltr\">A \n",
       "<mark class=\"entity\" style=\"background: #ddd; padding: 0.45em 0.6em; margin: 0 0.25em; line-height: 1; border-radius: 0.35em;\">\n",
       "    small red rubber cylinder\n",
       "    <span style=\"font-size: 0.8em; font-weight: bold; line-height: 1; border-radius: 0.35em; text-transform: uppercase; vertical-align: middle; margin-left: 0.5rem\">CLEVR_OBJ</span>\n",
       "</mark>\n",
       " is \n",
       "<mark class=\"entity\" style=\"background: #ddd; padding: 0.45em 0.6em; margin: 0 0.25em; line-height: 1; border-radius: 0.35em;\">\n",
       "    behind\n",
       "    <span style=\"font-size: 0.8em; font-weight: bold; line-height: 1; border-radius: 0.35em; text-transform: uppercase; vertical-align: middle; margin-left: 0.5rem\">SPATIAL_RE</span>\n",
       "</mark>\n",
       " a \n",
       "<mark class=\"entity\" style=\"background: #ddd; padding: 0.45em 0.6em; margin: 0 0.25em; line-height: 1; border-radius: 0.35em;\">\n",
       "    large brown metal sphere\n",
       "    <span style=\"font-size: 0.8em; font-weight: bold; line-height: 1; border-radius: 0.35em; text-transform: uppercase; vertical-align: middle; margin-left: 0.5rem\">CLEVR_OBJ</span>\n",
       "</mark>\n",
       "</div></span>"
      ],
      "text/plain": [
       "<IPython.core.display.HTML object>"
      ]
     },
     "metadata": {},
     "output_type": "display_data"
    }
   ],
   "source": [
    "cap_1a = 'A small red rubber cylinder is behind a large brown metal sphere'\n",
    "G_text, _d = parser.parse(cap_1a, return_doc=True)\n",
    "\n",
    "visualize(_d)"
   ]
  },
  {
   "cell_type": "code",
   "execution_count": null,
   "metadata": {},
   "outputs": [],
   "source": []
  },
  {
   "cell_type": "code",
   "execution_count": 11,
   "metadata": {},
   "outputs": [
    {
     "data": {
      "text/html": [
       "<img src=\"../data/2obj/images/train/CLEVR_train_000001.png\"/>"
      ],
      "text/plain": [
       "<IPython.core.display.Image object>"
      ]
     },
     "metadata": {},
     "output_type": "display_data"
    }
   ],
   "source": [
    "img_path = '../data/2obj/images/train/CLEVR_train_000001.png'\n",
    "img_grounding_parsed_gp = \"../data/CLEVR_v1.0/scenes_parsed/val_scenes_parsed.json\"\n",
    "\n",
    "display(Image(url=img_path))\n",
    "cap_1a = 'A small red rubber cylinder is behind a large brown metal sphere'\n",
    "graph, doc = parser.parse(cap_1a, return_doc=True)"
   ]
  },
  {
   "cell_type": "markdown",
   "metadata": {},
   "source": [
    "## Parser: Gs Parsing"
   ]
  },
  {
   "cell_type": "code",
   "execution_count": 7,
   "metadata": {},
   "outputs": [],
   "source": [
    "text = \"The sphere is behind a rubber cylinder right of a metal cube\"\n",
    "Gs, s_doc = parser.parse(text, return_doc=True, is_directed_graph=True)\n",
    "spatial_res = parser.filter_spatial_re(s_doc.ents)"
   ]
  },
  {
   "cell_type": "code",
   "execution_count": 9,
   "metadata": {},
   "outputs": [],
   "source": [
    "# Gs.nodes()\n",
    "# Gs = plt_visualizer.draw_graph(Gs, doc=s_doc)"
   ]
  },
  {
   "cell_type": "code",
   "execution_count": null,
   "metadata": {},
   "outputs": [],
   "source": []
  },
  {
   "cell_type": "code",
   "execution_count": null,
   "metadata": {},
   "outputs": [],
   "source": []
  },
  {
   "cell_type": "code",
   "execution_count": null,
   "metadata": {},
   "outputs": [],
   "source": []
  },
  {
   "cell_type": "code",
   "execution_count": null,
   "metadata": {},
   "outputs": [],
   "source": []
  },
  {
   "cell_type": "code",
   "execution_count": null,
   "metadata": {},
   "outputs": [],
   "source": []
  },
  {
   "cell_type": "code",
   "execution_count": null,
   "metadata": {},
   "outputs": [],
   "source": []
  },
  {
   "cell_type": "code",
   "execution_count": null,
   "metadata": {},
   "outputs": [],
   "source": []
  }
 ],
 "metadata": {
  "kernelspec": {
   "display_name": "Python 3",
   "language": "python",
   "name": "python3"
  },
  "language_info": {
   "codemirror_mode": {
    "name": "ipython",
    "version": 3
   },
   "file_extension": ".py",
   "mimetype": "text/x-python",
   "name": "python",
   "nbconvert_exporter": "python",
   "pygments_lexer": "ipython3",
   "version": "3.7.6"
  }
 },
 "nbformat": 4,
 "nbformat_minor": 2
}
